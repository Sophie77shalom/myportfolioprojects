{
 "cells": [
  {
   "cell_type": "code",
   "execution_count": 1,
   "id": "e6645f61",
   "metadata": {
    "_cell_guid": "b1076dfc-b9ad-4769-8c92-a6c4dae69d19",
    "_uuid": "8f2839f25d086af736a60e9eeb907d3b93b6e0e5",
    "execution": {
     "iopub.execute_input": "2024-12-02T18:42:34.851898Z",
     "iopub.status.busy": "2024-12-02T18:42:34.851450Z",
     "iopub.status.idle": "2024-12-02T18:42:35.839779Z",
     "shell.execute_reply": "2024-12-02T18:42:35.838036Z"
    },
    "papermill": {
     "duration": 0.998328,
     "end_time": "2024-12-02T18:42:35.842196",
     "exception": false,
     "start_time": "2024-12-02T18:42:34.843868",
     "status": "completed"
    },
    "tags": []
   },
   "outputs": [
    {
     "name": "stdout",
     "output_type": "stream",
     "text": [
      "/kaggle/input/house-prices-advanced-regression-techniques/sample_submission.csv\n",
      "/kaggle/input/house-prices-advanced-regression-techniques/data_description.txt\n",
      "/kaggle/input/house-prices-advanced-regression-techniques/train.csv\n",
      "/kaggle/input/house-prices-advanced-regression-techniques/test.csv\n"
     ]
    }
   ],
   "source": [
    "# This Python 3 environment comes with many helpful analytics libraries installed\n",
    "# It is defined by the kaggle/python Docker image: https://github.com/kaggle/docker-python\n",
    "# For example, here's several helpful packages to load\n",
    "\n",
    "import numpy as np # linear algebra\n",
    "import pandas as pd # data processing, CSV file I/O (e.g. pd.read_csv)\n",
    "\n",
    "# Input data files are available in the read-only \"../input/\" directory\n",
    "# For example, running this (by clicking run or pressing Shift+Enter) will list all files under the input directory\n",
    "\n",
    "import os\n",
    "for dirname, _, filenames in os.walk('/kaggle/input'):\n",
    "    for filename in filenames:\n",
    "        print(os.path.join(dirname, filename))\n",
    "\n",
    "# You can write up to 20GB to the current directory (/kaggle/working/) that gets preserved as output when you create a version using \"Save & Run All\" \n",
    "# You can also write temporary files to /kaggle/temp/, but they won't be saved outside of the current session"
   ]
  },
  {
   "cell_type": "code",
   "execution_count": null,
   "id": "8be6e7dd",
   "metadata": {
    "execution": {
     "iopub.execute_input": "2024-12-02T18:42:35.853717Z",
     "iopub.status.busy": "2024-12-02T18:42:35.853170Z",
     "iopub.status.idle": "2024-12-02T18:42:53.215501Z",
     "shell.execute_reply": "2024-12-02T18:42:53.214324Z"
    },
    "papermill": {
     "duration": 17.370748,
     "end_time": "2024-12-02T18:42:53.217988",
     "exception": false,
     "start_time": "2024-12-02T18:42:35.847240",
     "status": "completed"
    },
    "tags": []
   },
   "outputs": [],
   "source": [
    "import tensorflow as tf\n",
    "import tensorflow_decision_forests as tfdf\n",
    "import pandas as pd\n",
    "import seaborn as sns\n",
    "import matplotlib.pyplot as plt\n",
    "\n",
    "%matplotlib inline"
   ]
  },
  {
   "cell_type": "code",
   "execution_count": 3,
   "id": "bb0d4beb",
   "metadata": {
    "execution": {
     "iopub.execute_input": "2024-12-02T18:42:53.229335Z",
     "iopub.status.busy": "2024-12-02T18:42:53.228681Z",
     "iopub.status.idle": "2024-12-02T18:42:53.269012Z",
     "shell.execute_reply": "2024-12-02T18:42:53.267861Z"
    },
    "papermill": {
     "duration": 0.048851,
     "end_time": "2024-12-02T18:42:53.271627",
     "exception": false,
     "start_time": "2024-12-02T18:42:53.222776",
     "status": "completed"
    },
    "tags": []
   },
   "outputs": [
    {
     "name": "stdout",
     "output_type": "stream",
     "text": [
      "Full train dataset shape is (1460, 81)\n"
     ]
    }
   ],
   "source": [
    "train_file_path = \"../input/house-prices-advanced-regression-techniques/train.csv\"\n",
    "dataset_df = pd.read_csv(train_file_path)\n",
    "print(\"Full train dataset shape is {}\".format(dataset_df.shape))"
   ]
  },
  {
   "cell_type": "code",
   "execution_count": 4,
   "id": "53be93ba",
   "metadata": {
    "execution": {
     "iopub.execute_input": "2024-12-02T18:42:53.282895Z",
     "iopub.status.busy": "2024-12-02T18:42:53.282440Z",
     "iopub.status.idle": "2024-12-02T18:42:53.318429Z",
     "shell.execute_reply": "2024-12-02T18:42:53.317290Z"
    },
    "papermill": {
     "duration": 0.044234,
     "end_time": "2024-12-02T18:42:53.320584",
     "exception": false,
     "start_time": "2024-12-02T18:42:53.276350",
     "status": "completed"
    },
    "tags": []
   },
   "outputs": [
    {
     "data": {
      "text/html": [
       "<div>\n",
       "<style scoped>\n",
       "    .dataframe tbody tr th:only-of-type {\n",
       "        vertical-align: middle;\n",
       "    }\n",
       "\n",
       "    .dataframe tbody tr th {\n",
       "        vertical-align: top;\n",
       "    }\n",
       "\n",
       "    .dataframe thead th {\n",
       "        text-align: right;\n",
       "    }\n",
       "</style>\n",
       "<table border=\"1\" class=\"dataframe\">\n",
       "  <thead>\n",
       "    <tr style=\"text-align: right;\">\n",
       "      <th></th>\n",
       "      <th>Id</th>\n",
       "      <th>MSSubClass</th>\n",
       "      <th>MSZoning</th>\n",
       "      <th>LotFrontage</th>\n",
       "      <th>LotArea</th>\n",
       "      <th>Street</th>\n",
       "      <th>Alley</th>\n",
       "      <th>LotShape</th>\n",
       "      <th>LandContour</th>\n",
       "      <th>Utilities</th>\n",
       "      <th>...</th>\n",
       "      <th>PoolArea</th>\n",
       "      <th>PoolQC</th>\n",
       "      <th>Fence</th>\n",
       "      <th>MiscFeature</th>\n",
       "      <th>MiscVal</th>\n",
       "      <th>MoSold</th>\n",
       "      <th>YrSold</th>\n",
       "      <th>SaleType</th>\n",
       "      <th>SaleCondition</th>\n",
       "      <th>SalePrice</th>\n",
       "    </tr>\n",
       "  </thead>\n",
       "  <tbody>\n",
       "    <tr>\n",
       "      <th>0</th>\n",
       "      <td>1</td>\n",
       "      <td>60</td>\n",
       "      <td>RL</td>\n",
       "      <td>65.0</td>\n",
       "      <td>8450</td>\n",
       "      <td>Pave</td>\n",
       "      <td>NaN</td>\n",
       "      <td>Reg</td>\n",
       "      <td>Lvl</td>\n",
       "      <td>AllPub</td>\n",
       "      <td>...</td>\n",
       "      <td>0</td>\n",
       "      <td>NaN</td>\n",
       "      <td>NaN</td>\n",
       "      <td>NaN</td>\n",
       "      <td>0</td>\n",
       "      <td>2</td>\n",
       "      <td>2008</td>\n",
       "      <td>WD</td>\n",
       "      <td>Normal</td>\n",
       "      <td>208500</td>\n",
       "    </tr>\n",
       "    <tr>\n",
       "      <th>1</th>\n",
       "      <td>2</td>\n",
       "      <td>20</td>\n",
       "      <td>RL</td>\n",
       "      <td>80.0</td>\n",
       "      <td>9600</td>\n",
       "      <td>Pave</td>\n",
       "      <td>NaN</td>\n",
       "      <td>Reg</td>\n",
       "      <td>Lvl</td>\n",
       "      <td>AllPub</td>\n",
       "      <td>...</td>\n",
       "      <td>0</td>\n",
       "      <td>NaN</td>\n",
       "      <td>NaN</td>\n",
       "      <td>NaN</td>\n",
       "      <td>0</td>\n",
       "      <td>5</td>\n",
       "      <td>2007</td>\n",
       "      <td>WD</td>\n",
       "      <td>Normal</td>\n",
       "      <td>181500</td>\n",
       "    </tr>\n",
       "    <tr>\n",
       "      <th>2</th>\n",
       "      <td>3</td>\n",
       "      <td>60</td>\n",
       "      <td>RL</td>\n",
       "      <td>68.0</td>\n",
       "      <td>11250</td>\n",
       "      <td>Pave</td>\n",
       "      <td>NaN</td>\n",
       "      <td>IR1</td>\n",
       "      <td>Lvl</td>\n",
       "      <td>AllPub</td>\n",
       "      <td>...</td>\n",
       "      <td>0</td>\n",
       "      <td>NaN</td>\n",
       "      <td>NaN</td>\n",
       "      <td>NaN</td>\n",
       "      <td>0</td>\n",
       "      <td>9</td>\n",
       "      <td>2008</td>\n",
       "      <td>WD</td>\n",
       "      <td>Normal</td>\n",
       "      <td>223500</td>\n",
       "    </tr>\n",
       "    <tr>\n",
       "      <th>3</th>\n",
       "      <td>4</td>\n",
       "      <td>70</td>\n",
       "      <td>RL</td>\n",
       "      <td>60.0</td>\n",
       "      <td>9550</td>\n",
       "      <td>Pave</td>\n",
       "      <td>NaN</td>\n",
       "      <td>IR1</td>\n",
       "      <td>Lvl</td>\n",
       "      <td>AllPub</td>\n",
       "      <td>...</td>\n",
       "      <td>0</td>\n",
       "      <td>NaN</td>\n",
       "      <td>NaN</td>\n",
       "      <td>NaN</td>\n",
       "      <td>0</td>\n",
       "      <td>2</td>\n",
       "      <td>2006</td>\n",
       "      <td>WD</td>\n",
       "      <td>Abnorml</td>\n",
       "      <td>140000</td>\n",
       "    </tr>\n",
       "    <tr>\n",
       "      <th>4</th>\n",
       "      <td>5</td>\n",
       "      <td>60</td>\n",
       "      <td>RL</td>\n",
       "      <td>84.0</td>\n",
       "      <td>14260</td>\n",
       "      <td>Pave</td>\n",
       "      <td>NaN</td>\n",
       "      <td>IR1</td>\n",
       "      <td>Lvl</td>\n",
       "      <td>AllPub</td>\n",
       "      <td>...</td>\n",
       "      <td>0</td>\n",
       "      <td>NaN</td>\n",
       "      <td>NaN</td>\n",
       "      <td>NaN</td>\n",
       "      <td>0</td>\n",
       "      <td>12</td>\n",
       "      <td>2008</td>\n",
       "      <td>WD</td>\n",
       "      <td>Normal</td>\n",
       "      <td>250000</td>\n",
       "    </tr>\n",
       "    <tr>\n",
       "      <th>5</th>\n",
       "      <td>6</td>\n",
       "      <td>50</td>\n",
       "      <td>RL</td>\n",
       "      <td>85.0</td>\n",
       "      <td>14115</td>\n",
       "      <td>Pave</td>\n",
       "      <td>NaN</td>\n",
       "      <td>IR1</td>\n",
       "      <td>Lvl</td>\n",
       "      <td>AllPub</td>\n",
       "      <td>...</td>\n",
       "      <td>0</td>\n",
       "      <td>NaN</td>\n",
       "      <td>MnPrv</td>\n",
       "      <td>Shed</td>\n",
       "      <td>700</td>\n",
       "      <td>10</td>\n",
       "      <td>2009</td>\n",
       "      <td>WD</td>\n",
       "      <td>Normal</td>\n",
       "      <td>143000</td>\n",
       "    </tr>\n",
       "    <tr>\n",
       "      <th>6</th>\n",
       "      <td>7</td>\n",
       "      <td>20</td>\n",
       "      <td>RL</td>\n",
       "      <td>75.0</td>\n",
       "      <td>10084</td>\n",
       "      <td>Pave</td>\n",
       "      <td>NaN</td>\n",
       "      <td>Reg</td>\n",
       "      <td>Lvl</td>\n",
       "      <td>AllPub</td>\n",
       "      <td>...</td>\n",
       "      <td>0</td>\n",
       "      <td>NaN</td>\n",
       "      <td>NaN</td>\n",
       "      <td>NaN</td>\n",
       "      <td>0</td>\n",
       "      <td>8</td>\n",
       "      <td>2007</td>\n",
       "      <td>WD</td>\n",
       "      <td>Normal</td>\n",
       "      <td>307000</td>\n",
       "    </tr>\n",
       "    <tr>\n",
       "      <th>7</th>\n",
       "      <td>8</td>\n",
       "      <td>60</td>\n",
       "      <td>RL</td>\n",
       "      <td>NaN</td>\n",
       "      <td>10382</td>\n",
       "      <td>Pave</td>\n",
       "      <td>NaN</td>\n",
       "      <td>IR1</td>\n",
       "      <td>Lvl</td>\n",
       "      <td>AllPub</td>\n",
       "      <td>...</td>\n",
       "      <td>0</td>\n",
       "      <td>NaN</td>\n",
       "      <td>NaN</td>\n",
       "      <td>Shed</td>\n",
       "      <td>350</td>\n",
       "      <td>11</td>\n",
       "      <td>2009</td>\n",
       "      <td>WD</td>\n",
       "      <td>Normal</td>\n",
       "      <td>200000</td>\n",
       "    </tr>\n",
       "    <tr>\n",
       "      <th>8</th>\n",
       "      <td>9</td>\n",
       "      <td>50</td>\n",
       "      <td>RM</td>\n",
       "      <td>51.0</td>\n",
       "      <td>6120</td>\n",
       "      <td>Pave</td>\n",
       "      <td>NaN</td>\n",
       "      <td>Reg</td>\n",
       "      <td>Lvl</td>\n",
       "      <td>AllPub</td>\n",
       "      <td>...</td>\n",
       "      <td>0</td>\n",
       "      <td>NaN</td>\n",
       "      <td>NaN</td>\n",
       "      <td>NaN</td>\n",
       "      <td>0</td>\n",
       "      <td>4</td>\n",
       "      <td>2008</td>\n",
       "      <td>WD</td>\n",
       "      <td>Abnorml</td>\n",
       "      <td>129900</td>\n",
       "    </tr>\n",
       "    <tr>\n",
       "      <th>9</th>\n",
       "      <td>10</td>\n",
       "      <td>190</td>\n",
       "      <td>RL</td>\n",
       "      <td>50.0</td>\n",
       "      <td>7420</td>\n",
       "      <td>Pave</td>\n",
       "      <td>NaN</td>\n",
       "      <td>Reg</td>\n",
       "      <td>Lvl</td>\n",
       "      <td>AllPub</td>\n",
       "      <td>...</td>\n",
       "      <td>0</td>\n",
       "      <td>NaN</td>\n",
       "      <td>NaN</td>\n",
       "      <td>NaN</td>\n",
       "      <td>0</td>\n",
       "      <td>1</td>\n",
       "      <td>2008</td>\n",
       "      <td>WD</td>\n",
       "      <td>Normal</td>\n",
       "      <td>118000</td>\n",
       "    </tr>\n",
       "  </tbody>\n",
       "</table>\n",
       "<p>10 rows × 81 columns</p>\n",
       "</div>"
      ],
      "text/plain": [
       "   Id  MSSubClass MSZoning  LotFrontage  LotArea Street Alley LotShape  \\\n",
       "0   1          60       RL         65.0     8450   Pave   NaN      Reg   \n",
       "1   2          20       RL         80.0     9600   Pave   NaN      Reg   \n",
       "2   3          60       RL         68.0    11250   Pave   NaN      IR1   \n",
       "3   4          70       RL         60.0     9550   Pave   NaN      IR1   \n",
       "4   5          60       RL         84.0    14260   Pave   NaN      IR1   \n",
       "5   6          50       RL         85.0    14115   Pave   NaN      IR1   \n",
       "6   7          20       RL         75.0    10084   Pave   NaN      Reg   \n",
       "7   8          60       RL          NaN    10382   Pave   NaN      IR1   \n",
       "8   9          50       RM         51.0     6120   Pave   NaN      Reg   \n",
       "9  10         190       RL         50.0     7420   Pave   NaN      Reg   \n",
       "\n",
       "  LandContour Utilities  ... PoolArea PoolQC  Fence MiscFeature MiscVal  \\\n",
       "0         Lvl    AllPub  ...        0    NaN    NaN         NaN       0   \n",
       "1         Lvl    AllPub  ...        0    NaN    NaN         NaN       0   \n",
       "2         Lvl    AllPub  ...        0    NaN    NaN         NaN       0   \n",
       "3         Lvl    AllPub  ...        0    NaN    NaN         NaN       0   \n",
       "4         Lvl    AllPub  ...        0    NaN    NaN         NaN       0   \n",
       "5         Lvl    AllPub  ...        0    NaN  MnPrv        Shed     700   \n",
       "6         Lvl    AllPub  ...        0    NaN    NaN         NaN       0   \n",
       "7         Lvl    AllPub  ...        0    NaN    NaN        Shed     350   \n",
       "8         Lvl    AllPub  ...        0    NaN    NaN         NaN       0   \n",
       "9         Lvl    AllPub  ...        0    NaN    NaN         NaN       0   \n",
       "\n",
       "  MoSold YrSold  SaleType  SaleCondition  SalePrice  \n",
       "0      2   2008        WD         Normal     208500  \n",
       "1      5   2007        WD         Normal     181500  \n",
       "2      9   2008        WD         Normal     223500  \n",
       "3      2   2006        WD        Abnorml     140000  \n",
       "4     12   2008        WD         Normal     250000  \n",
       "5     10   2009        WD         Normal     143000  \n",
       "6      8   2007        WD         Normal     307000  \n",
       "7     11   2009        WD         Normal     200000  \n",
       "8      4   2008        WD        Abnorml     129900  \n",
       "9      1   2008        WD         Normal     118000  \n",
       "\n",
       "[10 rows x 81 columns]"
      ]
     },
     "execution_count": 4,
     "metadata": {},
     "output_type": "execute_result"
    }
   ],
   "source": [
    "dataset_df.head(10)"
   ]
  },
  {
   "cell_type": "code",
   "execution_count": 5,
   "id": "e4ef3e70",
   "metadata": {
    "execution": {
     "iopub.execute_input": "2024-12-02T18:42:53.332433Z",
     "iopub.status.busy": "2024-12-02T18:42:53.332059Z",
     "iopub.status.idle": "2024-12-02T18:42:53.361771Z",
     "shell.execute_reply": "2024-12-02T18:42:53.360472Z"
    },
    "papermill": {
     "duration": 0.038539,
     "end_time": "2024-12-02T18:42:53.364226",
     "exception": false,
     "start_time": "2024-12-02T18:42:53.325687",
     "status": "completed"
    },
    "tags": []
   },
   "outputs": [
    {
     "name": "stdout",
     "output_type": "stream",
     "text": [
      "<class 'pandas.core.frame.DataFrame'>\n",
      "RangeIndex: 1460 entries, 0 to 1459\n",
      "Data columns (total 81 columns):\n",
      " #   Column         Non-Null Count  Dtype  \n",
      "---  ------         --------------  -----  \n",
      " 0   Id             1460 non-null   int64  \n",
      " 1   MSSubClass     1460 non-null   int64  \n",
      " 2   MSZoning       1460 non-null   object \n",
      " 3   LotFrontage    1201 non-null   float64\n",
      " 4   LotArea        1460 non-null   int64  \n",
      " 5   Street         1460 non-null   object \n",
      " 6   Alley          91 non-null     object \n",
      " 7   LotShape       1460 non-null   object \n",
      " 8   LandContour    1460 non-null   object \n",
      " 9   Utilities      1460 non-null   object \n",
      " 10  LotConfig      1460 non-null   object \n",
      " 11  LandSlope      1460 non-null   object \n",
      " 12  Neighborhood   1460 non-null   object \n",
      " 13  Condition1     1460 non-null   object \n",
      " 14  Condition2     1460 non-null   object \n",
      " 15  BldgType       1460 non-null   object \n",
      " 16  HouseStyle     1460 non-null   object \n",
      " 17  OverallQual    1460 non-null   int64  \n",
      " 18  OverallCond    1460 non-null   int64  \n",
      " 19  YearBuilt      1460 non-null   int64  \n",
      " 20  YearRemodAdd   1460 non-null   int64  \n",
      " 21  RoofStyle      1460 non-null   object \n",
      " 22  RoofMatl       1460 non-null   object \n",
      " 23  Exterior1st    1460 non-null   object \n",
      " 24  Exterior2nd    1460 non-null   object \n",
      " 25  MasVnrType     588 non-null    object \n",
      " 26  MasVnrArea     1452 non-null   float64\n",
      " 27  ExterQual      1460 non-null   object \n",
      " 28  ExterCond      1460 non-null   object \n",
      " 29  Foundation     1460 non-null   object \n",
      " 30  BsmtQual       1423 non-null   object \n",
      " 31  BsmtCond       1423 non-null   object \n",
      " 32  BsmtExposure   1422 non-null   object \n",
      " 33  BsmtFinType1   1423 non-null   object \n",
      " 34  BsmtFinSF1     1460 non-null   int64  \n",
      " 35  BsmtFinType2   1422 non-null   object \n",
      " 36  BsmtFinSF2     1460 non-null   int64  \n",
      " 37  BsmtUnfSF      1460 non-null   int64  \n",
      " 38  TotalBsmtSF    1460 non-null   int64  \n",
      " 39  Heating        1460 non-null   object \n",
      " 40  HeatingQC      1460 non-null   object \n",
      " 41  CentralAir     1460 non-null   object \n",
      " 42  Electrical     1459 non-null   object \n",
      " 43  1stFlrSF       1460 non-null   int64  \n",
      " 44  2ndFlrSF       1460 non-null   int64  \n",
      " 45  LowQualFinSF   1460 non-null   int64  \n",
      " 46  GrLivArea      1460 non-null   int64  \n",
      " 47  BsmtFullBath   1460 non-null   int64  \n",
      " 48  BsmtHalfBath   1460 non-null   int64  \n",
      " 49  FullBath       1460 non-null   int64  \n",
      " 50  HalfBath       1460 non-null   int64  \n",
      " 51  BedroomAbvGr   1460 non-null   int64  \n",
      " 52  KitchenAbvGr   1460 non-null   int64  \n",
      " 53  KitchenQual    1460 non-null   object \n",
      " 54  TotRmsAbvGrd   1460 non-null   int64  \n",
      " 55  Functional     1460 non-null   object \n",
      " 56  Fireplaces     1460 non-null   int64  \n",
      " 57  FireplaceQu    770 non-null    object \n",
      " 58  GarageType     1379 non-null   object \n",
      " 59  GarageYrBlt    1379 non-null   float64\n",
      " 60  GarageFinish   1379 non-null   object \n",
      " 61  GarageCars     1460 non-null   int64  \n",
      " 62  GarageArea     1460 non-null   int64  \n",
      " 63  GarageQual     1379 non-null   object \n",
      " 64  GarageCond     1379 non-null   object \n",
      " 65  PavedDrive     1460 non-null   object \n",
      " 66  WoodDeckSF     1460 non-null   int64  \n",
      " 67  OpenPorchSF    1460 non-null   int64  \n",
      " 68  EnclosedPorch  1460 non-null   int64  \n",
      " 69  3SsnPorch      1460 non-null   int64  \n",
      " 70  ScreenPorch    1460 non-null   int64  \n",
      " 71  PoolArea       1460 non-null   int64  \n",
      " 72  PoolQC         7 non-null      object \n",
      " 73  Fence          281 non-null    object \n",
      " 74  MiscFeature    54 non-null     object \n",
      " 75  MiscVal        1460 non-null   int64  \n",
      " 76  MoSold         1460 non-null   int64  \n",
      " 77  YrSold         1460 non-null   int64  \n",
      " 78  SaleType       1460 non-null   object \n",
      " 79  SaleCondition  1460 non-null   object \n",
      " 80  SalePrice      1460 non-null   int64  \n",
      "dtypes: float64(3), int64(35), object(43)\n",
      "memory usage: 924.0+ KB\n"
     ]
    }
   ],
   "source": [
    "dataset_df.info()"
   ]
  },
  {
   "cell_type": "code",
   "execution_count": 6,
   "id": "574b5e78",
   "metadata": {
    "execution": {
     "iopub.execute_input": "2024-12-02T18:42:53.377467Z",
     "iopub.status.busy": "2024-12-02T18:42:53.377052Z",
     "iopub.status.idle": "2024-12-02T18:42:53.389909Z",
     "shell.execute_reply": "2024-12-02T18:42:53.388924Z"
    },
    "papermill": {
     "duration": 0.022166,
     "end_time": "2024-12-02T18:42:53.391864",
     "exception": false,
     "start_time": "2024-12-02T18:42:53.369698",
     "status": "completed"
    },
    "tags": []
   },
   "outputs": [
    {
     "data": {
      "text/plain": [
       "Id                 0\n",
       "MSSubClass         0\n",
       "MSZoning           0\n",
       "LotFrontage      259\n",
       "LotArea            0\n",
       "                ... \n",
       "MoSold             0\n",
       "YrSold             0\n",
       "SaleType           0\n",
       "SaleCondition      0\n",
       "SalePrice          0\n",
       "Length: 81, dtype: int64"
      ]
     },
     "execution_count": 6,
     "metadata": {},
     "output_type": "execute_result"
    }
   ],
   "source": [
    "dataset_df.isnull().sum()"
   ]
  },
  {
   "cell_type": "code",
   "execution_count": 7,
   "id": "57d852a6",
   "metadata": {
    "execution": {
     "iopub.execute_input": "2024-12-02T18:42:53.404215Z",
     "iopub.status.busy": "2024-12-02T18:42:53.403805Z",
     "iopub.status.idle": "2024-12-02T18:42:53.430036Z",
     "shell.execute_reply": "2024-12-02T18:42:53.428715Z"
    },
    "papermill": {
     "duration": 0.03515,
     "end_time": "2024-12-02T18:42:53.432352",
     "exception": false,
     "start_time": "2024-12-02T18:42:53.397202",
     "status": "completed"
    },
    "tags": []
   },
   "outputs": [
    {
     "name": "stdout",
     "output_type": "stream",
     "text": [
      "0\n"
     ]
    }
   ],
   "source": [
    "# Fill missing values in LotFrontage based on median LotFrontage by Neighborhood\n",
    "dataset_df['LotFrontage'] = dataset_df.groupby('Neighborhood')['LotFrontage'].transform(\n",
    "    lambda x: x.fillna(x.median()))\n",
    "\n",
    "# Check if there are any missing values left in LotFrontage\n",
    "print(dataset_df['LotFrontage'].isnull().sum())\n"
   ]
  },
  {
   "cell_type": "code",
   "execution_count": 8,
   "id": "77f75ecf",
   "metadata": {
    "execution": {
     "iopub.execute_input": "2024-12-02T18:42:53.444917Z",
     "iopub.status.busy": "2024-12-02T18:42:53.444494Z",
     "iopub.status.idle": "2024-12-02T18:42:53.493625Z",
     "shell.execute_reply": "2024-12-02T18:42:53.492483Z"
    },
    "papermill": {
     "duration": 0.059874,
     "end_time": "2024-12-02T18:42:53.497857",
     "exception": false,
     "start_time": "2024-12-02T18:42:53.437983",
     "status": "completed"
    },
    "tags": []
   },
   "outputs": [
    {
     "name": "stderr",
     "output_type": "stream",
     "text": [
      "/tmp/ipykernel_17/2687974756.py:3: FutureWarning: A value is trying to be set on a copy of a DataFrame or Series through chained assignment using an inplace method.\n",
      "The behavior will change in pandas 3.0. This inplace method will never work because the intermediate object on which we are setting values always behaves as a copy.\n",
      "\n",
      "For example, when doing 'df[col].method(value, inplace=True)', try using 'df.method({col: value}, inplace=True)' or df[col] = df[col].method(value) instead, to perform the operation inplace on the original object.\n",
      "\n",
      "\n",
      "  dataset_df[col].fillna(dataset_df[col].median(), inplace=True)\n",
      "/tmp/ipykernel_17/2687974756.py:3: FutureWarning: A value is trying to be set on a copy of a DataFrame or Series through chained assignment using an inplace method.\n",
      "The behavior will change in pandas 3.0. This inplace method will never work because the intermediate object on which we are setting values always behaves as a copy.\n",
      "\n",
      "For example, when doing 'df[col].method(value, inplace=True)', try using 'df.method({col: value}, inplace=True)' or df[col] = df[col].method(value) instead, to perform the operation inplace on the original object.\n",
      "\n",
      "\n",
      "  dataset_df[col].fillna(dataset_df[col].median(), inplace=True)\n",
      "/tmp/ipykernel_17/2687974756.py:3: FutureWarning: A value is trying to be set on a copy of a DataFrame or Series through chained assignment using an inplace method.\n",
      "The behavior will change in pandas 3.0. This inplace method will never work because the intermediate object on which we are setting values always behaves as a copy.\n",
      "\n",
      "For example, when doing 'df[col].method(value, inplace=True)', try using 'df.method({col: value}, inplace=True)' or df[col] = df[col].method(value) instead, to perform the operation inplace on the original object.\n",
      "\n",
      "\n",
      "  dataset_df[col].fillna(dataset_df[col].median(), inplace=True)\n",
      "/tmp/ipykernel_17/2687974756.py:3: FutureWarning: A value is trying to be set on a copy of a DataFrame or Series through chained assignment using an inplace method.\n",
      "The behavior will change in pandas 3.0. This inplace method will never work because the intermediate object on which we are setting values always behaves as a copy.\n",
      "\n",
      "For example, when doing 'df[col].method(value, inplace=True)', try using 'df.method({col: value}, inplace=True)' or df[col] = df[col].method(value) instead, to perform the operation inplace on the original object.\n",
      "\n",
      "\n",
      "  dataset_df[col].fillna(dataset_df[col].median(), inplace=True)\n",
      "/tmp/ipykernel_17/2687974756.py:3: FutureWarning: A value is trying to be set on a copy of a DataFrame or Series through chained assignment using an inplace method.\n",
      "The behavior will change in pandas 3.0. This inplace method will never work because the intermediate object on which we are setting values always behaves as a copy.\n",
      "\n",
      "For example, when doing 'df[col].method(value, inplace=True)', try using 'df.method({col: value}, inplace=True)' or df[col] = df[col].method(value) instead, to perform the operation inplace on the original object.\n",
      "\n",
      "\n",
      "  dataset_df[col].fillna(dataset_df[col].median(), inplace=True)\n",
      "/tmp/ipykernel_17/2687974756.py:3: FutureWarning: A value is trying to be set on a copy of a DataFrame or Series through chained assignment using an inplace method.\n",
      "The behavior will change in pandas 3.0. This inplace method will never work because the intermediate object on which we are setting values always behaves as a copy.\n",
      "\n",
      "For example, when doing 'df[col].method(value, inplace=True)', try using 'df.method({col: value}, inplace=True)' or df[col] = df[col].method(value) instead, to perform the operation inplace on the original object.\n",
      "\n",
      "\n",
      "  dataset_df[col].fillna(dataset_df[col].median(), inplace=True)\n",
      "/tmp/ipykernel_17/2687974756.py:3: FutureWarning: A value is trying to be set on a copy of a DataFrame or Series through chained assignment using an inplace method.\n",
      "The behavior will change in pandas 3.0. This inplace method will never work because the intermediate object on which we are setting values always behaves as a copy.\n",
      "\n",
      "For example, when doing 'df[col].method(value, inplace=True)', try using 'df.method({col: value}, inplace=True)' or df[col] = df[col].method(value) instead, to perform the operation inplace on the original object.\n",
      "\n",
      "\n",
      "  dataset_df[col].fillna(dataset_df[col].median(), inplace=True)\n",
      "/tmp/ipykernel_17/2687974756.py:3: FutureWarning: A value is trying to be set on a copy of a DataFrame or Series through chained assignment using an inplace method.\n",
      "The behavior will change in pandas 3.0. This inplace method will never work because the intermediate object on which we are setting values always behaves as a copy.\n",
      "\n",
      "For example, when doing 'df[col].method(value, inplace=True)', try using 'df.method({col: value}, inplace=True)' or df[col] = df[col].method(value) instead, to perform the operation inplace on the original object.\n",
      "\n",
      "\n",
      "  dataset_df[col].fillna(dataset_df[col].median(), inplace=True)\n",
      "/tmp/ipykernel_17/2687974756.py:3: FutureWarning: A value is trying to be set on a copy of a DataFrame or Series through chained assignment using an inplace method.\n",
      "The behavior will change in pandas 3.0. This inplace method will never work because the intermediate object on which we are setting values always behaves as a copy.\n",
      "\n",
      "For example, when doing 'df[col].method(value, inplace=True)', try using 'df.method({col: value}, inplace=True)' or df[col] = df[col].method(value) instead, to perform the operation inplace on the original object.\n",
      "\n",
      "\n",
      "  dataset_df[col].fillna(dataset_df[col].median(), inplace=True)\n",
      "/tmp/ipykernel_17/2687974756.py:3: FutureWarning: A value is trying to be set on a copy of a DataFrame or Series through chained assignment using an inplace method.\n",
      "The behavior will change in pandas 3.0. This inplace method will never work because the intermediate object on which we are setting values always behaves as a copy.\n",
      "\n",
      "For example, when doing 'df[col].method(value, inplace=True)', try using 'df.method({col: value}, inplace=True)' or df[col] = df[col].method(value) instead, to perform the operation inplace on the original object.\n",
      "\n",
      "\n",
      "  dataset_df[col].fillna(dataset_df[col].median(), inplace=True)\n",
      "/tmp/ipykernel_17/2687974756.py:3: FutureWarning: A value is trying to be set on a copy of a DataFrame or Series through chained assignment using an inplace method.\n",
      "The behavior will change in pandas 3.0. This inplace method will never work because the intermediate object on which we are setting values always behaves as a copy.\n",
      "\n",
      "For example, when doing 'df[col].method(value, inplace=True)', try using 'df.method({col: value}, inplace=True)' or df[col] = df[col].method(value) instead, to perform the operation inplace on the original object.\n",
      "\n",
      "\n",
      "  dataset_df[col].fillna(dataset_df[col].median(), inplace=True)\n",
      "/tmp/ipykernel_17/2687974756.py:3: FutureWarning: A value is trying to be set on a copy of a DataFrame or Series through chained assignment using an inplace method.\n",
      "The behavior will change in pandas 3.0. This inplace method will never work because the intermediate object on which we are setting values always behaves as a copy.\n",
      "\n",
      "For example, when doing 'df[col].method(value, inplace=True)', try using 'df.method({col: value}, inplace=True)' or df[col] = df[col].method(value) instead, to perform the operation inplace on the original object.\n",
      "\n",
      "\n",
      "  dataset_df[col].fillna(dataset_df[col].median(), inplace=True)\n",
      "/tmp/ipykernel_17/2687974756.py:3: FutureWarning: A value is trying to be set on a copy of a DataFrame or Series through chained assignment using an inplace method.\n",
      "The behavior will change in pandas 3.0. This inplace method will never work because the intermediate object on which we are setting values always behaves as a copy.\n",
      "\n",
      "For example, when doing 'df[col].method(value, inplace=True)', try using 'df.method({col: value}, inplace=True)' or df[col] = df[col].method(value) instead, to perform the operation inplace on the original object.\n",
      "\n",
      "\n",
      "  dataset_df[col].fillna(dataset_df[col].median(), inplace=True)\n",
      "/tmp/ipykernel_17/2687974756.py:3: FutureWarning: A value is trying to be set on a copy of a DataFrame or Series through chained assignment using an inplace method.\n",
      "The behavior will change in pandas 3.0. This inplace method will never work because the intermediate object on which we are setting values always behaves as a copy.\n",
      "\n",
      "For example, when doing 'df[col].method(value, inplace=True)', try using 'df.method({col: value}, inplace=True)' or df[col] = df[col].method(value) instead, to perform the operation inplace on the original object.\n",
      "\n",
      "\n",
      "  dataset_df[col].fillna(dataset_df[col].median(), inplace=True)\n",
      "/tmp/ipykernel_17/2687974756.py:3: FutureWarning: A value is trying to be set on a copy of a DataFrame or Series through chained assignment using an inplace method.\n",
      "The behavior will change in pandas 3.0. This inplace method will never work because the intermediate object on which we are setting values always behaves as a copy.\n",
      "\n",
      "For example, when doing 'df[col].method(value, inplace=True)', try using 'df.method({col: value}, inplace=True)' or df[col] = df[col].method(value) instead, to perform the operation inplace on the original object.\n",
      "\n",
      "\n",
      "  dataset_df[col].fillna(dataset_df[col].median(), inplace=True)\n",
      "/tmp/ipykernel_17/2687974756.py:3: FutureWarning: A value is trying to be set on a copy of a DataFrame or Series through chained assignment using an inplace method.\n",
      "The behavior will change in pandas 3.0. This inplace method will never work because the intermediate object on which we are setting values always behaves as a copy.\n",
      "\n",
      "For example, when doing 'df[col].method(value, inplace=True)', try using 'df.method({col: value}, inplace=True)' or df[col] = df[col].method(value) instead, to perform the operation inplace on the original object.\n",
      "\n",
      "\n",
      "  dataset_df[col].fillna(dataset_df[col].median(), inplace=True)\n",
      "/tmp/ipykernel_17/2687974756.py:3: FutureWarning: A value is trying to be set on a copy of a DataFrame or Series through chained assignment using an inplace method.\n",
      "The behavior will change in pandas 3.0. This inplace method will never work because the intermediate object on which we are setting values always behaves as a copy.\n",
      "\n",
      "For example, when doing 'df[col].method(value, inplace=True)', try using 'df.method({col: value}, inplace=True)' or df[col] = df[col].method(value) instead, to perform the operation inplace on the original object.\n",
      "\n",
      "\n",
      "  dataset_df[col].fillna(dataset_df[col].median(), inplace=True)\n",
      "/tmp/ipykernel_17/2687974756.py:3: FutureWarning: A value is trying to be set on a copy of a DataFrame or Series through chained assignment using an inplace method.\n",
      "The behavior will change in pandas 3.0. This inplace method will never work because the intermediate object on which we are setting values always behaves as a copy.\n",
      "\n",
      "For example, when doing 'df[col].method(value, inplace=True)', try using 'df.method({col: value}, inplace=True)' or df[col] = df[col].method(value) instead, to perform the operation inplace on the original object.\n",
      "\n",
      "\n",
      "  dataset_df[col].fillna(dataset_df[col].median(), inplace=True)\n",
      "/tmp/ipykernel_17/2687974756.py:3: FutureWarning: A value is trying to be set on a copy of a DataFrame or Series through chained assignment using an inplace method.\n",
      "The behavior will change in pandas 3.0. This inplace method will never work because the intermediate object on which we are setting values always behaves as a copy.\n",
      "\n",
      "For example, when doing 'df[col].method(value, inplace=True)', try using 'df.method({col: value}, inplace=True)' or df[col] = df[col].method(value) instead, to perform the operation inplace on the original object.\n",
      "\n",
      "\n",
      "  dataset_df[col].fillna(dataset_df[col].median(), inplace=True)\n",
      "/tmp/ipykernel_17/2687974756.py:3: FutureWarning: A value is trying to be set on a copy of a DataFrame or Series through chained assignment using an inplace method.\n",
      "The behavior will change in pandas 3.0. This inplace method will never work because the intermediate object on which we are setting values always behaves as a copy.\n",
      "\n",
      "For example, when doing 'df[col].method(value, inplace=True)', try using 'df.method({col: value}, inplace=True)' or df[col] = df[col].method(value) instead, to perform the operation inplace on the original object.\n",
      "\n",
      "\n",
      "  dataset_df[col].fillna(dataset_df[col].median(), inplace=True)\n",
      "/tmp/ipykernel_17/2687974756.py:3: FutureWarning: A value is trying to be set on a copy of a DataFrame or Series through chained assignment using an inplace method.\n",
      "The behavior will change in pandas 3.0. This inplace method will never work because the intermediate object on which we are setting values always behaves as a copy.\n",
      "\n",
      "For example, when doing 'df[col].method(value, inplace=True)', try using 'df.method({col: value}, inplace=True)' or df[col] = df[col].method(value) instead, to perform the operation inplace on the original object.\n",
      "\n",
      "\n",
      "  dataset_df[col].fillna(dataset_df[col].median(), inplace=True)\n",
      "/tmp/ipykernel_17/2687974756.py:3: FutureWarning: A value is trying to be set on a copy of a DataFrame or Series through chained assignment using an inplace method.\n",
      "The behavior will change in pandas 3.0. This inplace method will never work because the intermediate object on which we are setting values always behaves as a copy.\n",
      "\n",
      "For example, when doing 'df[col].method(value, inplace=True)', try using 'df.method({col: value}, inplace=True)' or df[col] = df[col].method(value) instead, to perform the operation inplace on the original object.\n",
      "\n",
      "\n",
      "  dataset_df[col].fillna(dataset_df[col].median(), inplace=True)\n",
      "/tmp/ipykernel_17/2687974756.py:3: FutureWarning: A value is trying to be set on a copy of a DataFrame or Series through chained assignment using an inplace method.\n",
      "The behavior will change in pandas 3.0. This inplace method will never work because the intermediate object on which we are setting values always behaves as a copy.\n",
      "\n",
      "For example, when doing 'df[col].method(value, inplace=True)', try using 'df.method({col: value}, inplace=True)' or df[col] = df[col].method(value) instead, to perform the operation inplace on the original object.\n",
      "\n",
      "\n",
      "  dataset_df[col].fillna(dataset_df[col].median(), inplace=True)\n",
      "/tmp/ipykernel_17/2687974756.py:3: FutureWarning: A value is trying to be set on a copy of a DataFrame or Series through chained assignment using an inplace method.\n",
      "The behavior will change in pandas 3.0. This inplace method will never work because the intermediate object on which we are setting values always behaves as a copy.\n",
      "\n",
      "For example, when doing 'df[col].method(value, inplace=True)', try using 'df.method({col: value}, inplace=True)' or df[col] = df[col].method(value) instead, to perform the operation inplace on the original object.\n",
      "\n",
      "\n",
      "  dataset_df[col].fillna(dataset_df[col].median(), inplace=True)\n",
      "/tmp/ipykernel_17/2687974756.py:3: FutureWarning: A value is trying to be set on a copy of a DataFrame or Series through chained assignment using an inplace method.\n",
      "The behavior will change in pandas 3.0. This inplace method will never work because the intermediate object on which we are setting values always behaves as a copy.\n",
      "\n",
      "For example, when doing 'df[col].method(value, inplace=True)', try using 'df.method({col: value}, inplace=True)' or df[col] = df[col].method(value) instead, to perform the operation inplace on the original object.\n",
      "\n",
      "\n",
      "  dataset_df[col].fillna(dataset_df[col].median(), inplace=True)\n",
      "/tmp/ipykernel_17/2687974756.py:3: FutureWarning: A value is trying to be set on a copy of a DataFrame or Series through chained assignment using an inplace method.\n",
      "The behavior will change in pandas 3.0. This inplace method will never work because the intermediate object on which we are setting values always behaves as a copy.\n",
      "\n",
      "For example, when doing 'df[col].method(value, inplace=True)', try using 'df.method({col: value}, inplace=True)' or df[col] = df[col].method(value) instead, to perform the operation inplace on the original object.\n",
      "\n",
      "\n",
      "  dataset_df[col].fillna(dataset_df[col].median(), inplace=True)\n",
      "/tmp/ipykernel_17/2687974756.py:3: FutureWarning: A value is trying to be set on a copy of a DataFrame or Series through chained assignment using an inplace method.\n",
      "The behavior will change in pandas 3.0. This inplace method will never work because the intermediate object on which we are setting values always behaves as a copy.\n",
      "\n",
      "For example, when doing 'df[col].method(value, inplace=True)', try using 'df.method({col: value}, inplace=True)' or df[col] = df[col].method(value) instead, to perform the operation inplace on the original object.\n",
      "\n",
      "\n",
      "  dataset_df[col].fillna(dataset_df[col].median(), inplace=True)\n",
      "/tmp/ipykernel_17/2687974756.py:3: FutureWarning: A value is trying to be set on a copy of a DataFrame or Series through chained assignment using an inplace method.\n",
      "The behavior will change in pandas 3.0. This inplace method will never work because the intermediate object on which we are setting values always behaves as a copy.\n",
      "\n",
      "For example, when doing 'df[col].method(value, inplace=True)', try using 'df.method({col: value}, inplace=True)' or df[col] = df[col].method(value) instead, to perform the operation inplace on the original object.\n",
      "\n",
      "\n",
      "  dataset_df[col].fillna(dataset_df[col].median(), inplace=True)\n",
      "/tmp/ipykernel_17/2687974756.py:3: FutureWarning: A value is trying to be set on a copy of a DataFrame or Series through chained assignment using an inplace method.\n",
      "The behavior will change in pandas 3.0. This inplace method will never work because the intermediate object on which we are setting values always behaves as a copy.\n",
      "\n",
      "For example, when doing 'df[col].method(value, inplace=True)', try using 'df.method({col: value}, inplace=True)' or df[col] = df[col].method(value) instead, to perform the operation inplace on the original object.\n",
      "\n",
      "\n",
      "  dataset_df[col].fillna(dataset_df[col].median(), inplace=True)\n",
      "/tmp/ipykernel_17/2687974756.py:3: FutureWarning: A value is trying to be set on a copy of a DataFrame or Series through chained assignment using an inplace method.\n",
      "The behavior will change in pandas 3.0. This inplace method will never work because the intermediate object on which we are setting values always behaves as a copy.\n",
      "\n",
      "For example, when doing 'df[col].method(value, inplace=True)', try using 'df.method({col: value}, inplace=True)' or df[col] = df[col].method(value) instead, to perform the operation inplace on the original object.\n",
      "\n",
      "\n",
      "  dataset_df[col].fillna(dataset_df[col].median(), inplace=True)\n",
      "/tmp/ipykernel_17/2687974756.py:3: FutureWarning: A value is trying to be set on a copy of a DataFrame or Series through chained assignment using an inplace method.\n",
      "The behavior will change in pandas 3.0. This inplace method will never work because the intermediate object on which we are setting values always behaves as a copy.\n",
      "\n",
      "For example, when doing 'df[col].method(value, inplace=True)', try using 'df.method({col: value}, inplace=True)' or df[col] = df[col].method(value) instead, to perform the operation inplace on the original object.\n",
      "\n",
      "\n",
      "  dataset_df[col].fillna(dataset_df[col].median(), inplace=True)\n",
      "/tmp/ipykernel_17/2687974756.py:3: FutureWarning: A value is trying to be set on a copy of a DataFrame or Series through chained assignment using an inplace method.\n",
      "The behavior will change in pandas 3.0. This inplace method will never work because the intermediate object on which we are setting values always behaves as a copy.\n",
      "\n",
      "For example, when doing 'df[col].method(value, inplace=True)', try using 'df.method({col: value}, inplace=True)' or df[col] = df[col].method(value) instead, to perform the operation inplace on the original object.\n",
      "\n",
      "\n",
      "  dataset_df[col].fillna(dataset_df[col].median(), inplace=True)\n",
      "/tmp/ipykernel_17/2687974756.py:3: FutureWarning: A value is trying to be set on a copy of a DataFrame or Series through chained assignment using an inplace method.\n",
      "The behavior will change in pandas 3.0. This inplace method will never work because the intermediate object on which we are setting values always behaves as a copy.\n",
      "\n",
      "For example, when doing 'df[col].method(value, inplace=True)', try using 'df.method({col: value}, inplace=True)' or df[col] = df[col].method(value) instead, to perform the operation inplace on the original object.\n",
      "\n",
      "\n",
      "  dataset_df[col].fillna(dataset_df[col].median(), inplace=True)\n",
      "/tmp/ipykernel_17/2687974756.py:3: FutureWarning: A value is trying to be set on a copy of a DataFrame or Series through chained assignment using an inplace method.\n",
      "The behavior will change in pandas 3.0. This inplace method will never work because the intermediate object on which we are setting values always behaves as a copy.\n",
      "\n",
      "For example, when doing 'df[col].method(value, inplace=True)', try using 'df.method({col: value}, inplace=True)' or df[col] = df[col].method(value) instead, to perform the operation inplace on the original object.\n",
      "\n",
      "\n",
      "  dataset_df[col].fillna(dataset_df[col].median(), inplace=True)\n",
      "/tmp/ipykernel_17/2687974756.py:3: FutureWarning: A value is trying to be set on a copy of a DataFrame or Series through chained assignment using an inplace method.\n",
      "The behavior will change in pandas 3.0. This inplace method will never work because the intermediate object on which we are setting values always behaves as a copy.\n",
      "\n",
      "For example, when doing 'df[col].method(value, inplace=True)', try using 'df.method({col: value}, inplace=True)' or df[col] = df[col].method(value) instead, to perform the operation inplace on the original object.\n",
      "\n",
      "\n",
      "  dataset_df[col].fillna(dataset_df[col].median(), inplace=True)\n",
      "/tmp/ipykernel_17/2687974756.py:3: FutureWarning: A value is trying to be set on a copy of a DataFrame or Series through chained assignment using an inplace method.\n",
      "The behavior will change in pandas 3.0. This inplace method will never work because the intermediate object on which we are setting values always behaves as a copy.\n",
      "\n",
      "For example, when doing 'df[col].method(value, inplace=True)', try using 'df.method({col: value}, inplace=True)' or df[col] = df[col].method(value) instead, to perform the operation inplace on the original object.\n",
      "\n",
      "\n",
      "  dataset_df[col].fillna(dataset_df[col].median(), inplace=True)\n",
      "/tmp/ipykernel_17/2687974756.py:3: FutureWarning: A value is trying to be set on a copy of a DataFrame or Series through chained assignment using an inplace method.\n",
      "The behavior will change in pandas 3.0. This inplace method will never work because the intermediate object on which we are setting values always behaves as a copy.\n",
      "\n",
      "For example, when doing 'df[col].method(value, inplace=True)', try using 'df.method({col: value}, inplace=True)' or df[col] = df[col].method(value) instead, to perform the operation inplace on the original object.\n",
      "\n",
      "\n",
      "  dataset_df[col].fillna(dataset_df[col].median(), inplace=True)\n",
      "/tmp/ipykernel_17/2687974756.py:3: FutureWarning: A value is trying to be set on a copy of a DataFrame or Series through chained assignment using an inplace method.\n",
      "The behavior will change in pandas 3.0. This inplace method will never work because the intermediate object on which we are setting values always behaves as a copy.\n",
      "\n",
      "For example, when doing 'df[col].method(value, inplace=True)', try using 'df.method({col: value}, inplace=True)' or df[col] = df[col].method(value) instead, to perform the operation inplace on the original object.\n",
      "\n",
      "\n",
      "  dataset_df[col].fillna(dataset_df[col].median(), inplace=True)\n",
      "/tmp/ipykernel_17/2687974756.py:7: FutureWarning: A value is trying to be set on a copy of a DataFrame or Series through chained assignment using an inplace method.\n",
      "The behavior will change in pandas 3.0. This inplace method will never work because the intermediate object on which we are setting values always behaves as a copy.\n",
      "\n",
      "For example, when doing 'df[col].method(value, inplace=True)', try using 'df.method({col: value}, inplace=True)' or df[col] = df[col].method(value) instead, to perform the operation inplace on the original object.\n",
      "\n",
      "\n",
      "  dataset_df[col].fillna(dataset_df[col].mode()[0], inplace=True)\n"
     ]
    }
   ],
   "source": [
    "# Fill missing values for numerical features with the median\n",
    "for col in dataset_df.select_dtypes(include=['float64', 'int64']).columns:\n",
    "    dataset_df[col].fillna(dataset_df[col].median(), inplace=True)\n",
    "\n",
    "# Fill missing values for categorical features with the mode\n",
    "for col in dataset_df.select_dtypes(include=['object']).columns:\n",
    "    dataset_df[col].fillna(dataset_df[col].mode()[0], inplace=True)\n"
   ]
  },
  {
   "cell_type": "code",
   "execution_count": 9,
   "id": "eaf07886",
   "metadata": {
    "execution": {
     "iopub.execute_input": "2024-12-02T18:42:53.511409Z",
     "iopub.status.busy": "2024-12-02T18:42:53.511063Z",
     "iopub.status.idle": "2024-12-02T18:42:53.517126Z",
     "shell.execute_reply": "2024-12-02T18:42:53.516064Z"
    },
    "papermill": {
     "duration": 0.015403,
     "end_time": "2024-12-02T18:42:53.519344",
     "exception": false,
     "start_time": "2024-12-02T18:42:53.503941",
     "status": "completed"
    },
    "tags": []
   },
   "outputs": [],
   "source": [
    "#Create a new feature for the total square footage\n",
    "dataset_df['TotalSF'] = dataset_df['TotalBsmtSF'] + dataset_df['1stFlrSF'] + dataset_df['2ndFlrSF']\n"
   ]
  },
  {
   "cell_type": "code",
   "execution_count": 10,
   "id": "47b973e3",
   "metadata": {
    "execution": {
     "iopub.execute_input": "2024-12-02T18:42:53.532915Z",
     "iopub.status.busy": "2024-12-02T18:42:53.532482Z",
     "iopub.status.idle": "2024-12-02T18:42:53.974057Z",
     "shell.execute_reply": "2024-12-02T18:42:53.972888Z"
    },
    "papermill": {
     "duration": 0.451958,
     "end_time": "2024-12-02T18:42:53.977162",
     "exception": false,
     "start_time": "2024-12-02T18:42:53.525204",
     "status": "completed"
    },
    "tags": []
   },
   "outputs": [
    {
     "name": "stderr",
     "output_type": "stream",
     "text": [
      "/opt/conda/lib/python3.10/site-packages/seaborn/_oldcore.py:1119: FutureWarning: use_inf_as_na option is deprecated and will be removed in a future version. Convert inf values to NaN before operating instead.\n",
      "  with pd.option_context('mode.use_inf_as_na', True):\n"
     ]
    },
    {
     "data": {
      "image/png": "[encoded data removed]",
      "text/plain": [
       "<Figure size 1000x600 with 1 Axes>"
      ]
     },
     "metadata": {},
     "output_type": "display_data"
    }
   ],
   "source": [
    "##Visualizations\n",
    "import matplotlib.pyplot as plt\n",
    "import seaborn as sns\n",
    "\n",
    "# Plot the distribution of SalePrice\n",
    "plt.figure(figsize=(10, 6))\n",
    "sns.histplot(dataset_df['SalePrice'], kde=True)\n",
    "plt.title('Distribution of SalePrice')\n",
    "plt.xlabel('SalePrice')\n",
    "plt.ylabel('Frequency')\n",
    "plt.show()\n"
   ]
  },
  {
   "cell_type": "code",
   "execution_count": 11,
   "id": "69a23f8b",
   "metadata": {
    "execution": {
     "iopub.execute_input": "2024-12-02T18:42:53.999139Z",
     "iopub.status.busy": "2024-12-02T18:42:53.998720Z",
     "iopub.status.idle": "2024-12-02T18:42:54.957816Z",
     "shell.execute_reply": "2024-12-02T18:42:54.956469Z"
    },
    "papermill": {
     "duration": 0.969241,
     "end_time": "2024-12-02T18:42:54.959980",
     "exception": false,
     "start_time": "2024-12-02T18:42:53.990739",
     "status": "completed"
    },
    "tags": []
   },
   "outputs": [
    {
     "data": {
      "image/png": "[encoded data removed]",
      "text/plain": [
       "<Figure size 1000x600 with 1 Axes>"
      ]
     },
     "metadata": {},
     "output_type": "display_data"
    },
    {
     "data": {
      "image/png": "[encoded data removed]",
      "text/plain": [
       "<Figure size 1000x600 with 1 Axes>"
      ]
     },
     "metadata": {},
     "output_type": "display_data"
    },
    {
     "data": {
      "image/png": "[encoded data removed]",
      "text/plain": [
       "<Figure size 1000x600 with 1 Axes>"
      ]
     },
     "metadata": {},
     "output_type": "display_data"
    }
   ],
   "source": [
    "# Plot SalePrice vs OverallQual\n",
    "plt.figure(figsize=(10, 6))\n",
    "sns.boxplot(x='OverallQual', y='SalePrice', data=dataset_df)\n",
    "plt.title('SalePrice vs OverallQual')\n",
    "plt.xlabel('Overall Quality')\n",
    "plt.ylabel('SalePrice')\n",
    "plt.show()\n",
    "\n",
    "# Plot SalePrice vs GrLivArea\n",
    "plt.figure(figsize=(10, 6))\n",
    "sns.scatterplot(x='GrLivArea', y='SalePrice', data=dataset_df)\n",
    "plt.title('SalePrice vs GrLivArea')\n",
    "plt.xlabel('Above Ground Living Area (sq ft)')\n",
    "plt.ylabel('SalePrice')\n",
    "plt.show()\n",
    "\n",
    "# Plot SalePrice vs TotalBsmtSF\n",
    "plt.figure(figsize=(10, 6))\n",
    "sns.scatterplot(x='TotalBsmtSF', y='SalePrice', data=dataset_df)\n",
    "plt.title('SalePrice vs TotalBsmtSF')\n",
    "plt.xlabel('Total Basement Area (sq ft)')\n",
    "plt.ylabel('SalePrice')\n",
    "plt.show()\n"
   ]
  },
  {
   "cell_type": "code",
   "execution_count": 12,
   "id": "50aa34e7",
   "metadata": {
    "execution": {
     "iopub.execute_input": "2024-12-02T18:42:54.981133Z",
     "iopub.status.busy": "2024-12-02T18:42:54.980708Z",
     "iopub.status.idle": "2024-12-02T18:42:55.518017Z",
     "shell.execute_reply": "2024-12-02T18:42:55.516698Z"
    },
    "papermill": {
     "duration": 0.55077,
     "end_time": "2024-12-02T18:42:55.520602",
     "exception": false,
     "start_time": "2024-12-02T18:42:54.969832",
     "status": "completed"
    },
    "tags": []
   },
   "outputs": [
    {
     "name": "stdout",
     "output_type": "stream",
     "text": [
      "SalePrice      1.000000\n",
      "OverallQual    0.790982\n",
      "TotalSF        0.782260\n",
      "GrLivArea      0.708624\n",
      "GarageCars     0.640409\n",
      "GarageArea     0.623431\n",
      "TotalBsmtSF    0.613581\n",
      "1stFlrSF       0.605852\n",
      "FullBath       0.560664\n",
      "BsmtQual_Ex    0.553105\n",
      "Name: SalePrice, dtype: float64\n"
     ]
    }
   ],
   "source": [
    "# Import necessary library\n",
    "from sklearn.preprocessing import OneHotEncoder\n",
    "\n",
    "# Identify categorical columns\n",
    "categorical_cols = dataset_df.select_dtypes(include=['object']).columns\n",
    "\n",
    "# Apply one-hot encoding to the categorical columns\n",
    "dataset_df = pd.get_dummies(dataset_df, columns=categorical_cols)\n",
    "\n",
    "# Compute the correlation matrix\n",
    "corr_matrix = dataset_df.corr()\n",
    "\n",
    "# Get the top 10 features most correlated with SalePrice\n",
    "top_corr_features = corr_matrix['SalePrice'].sort_values(ascending=False).head(10)\n",
    "print(top_corr_features)\n"
   ]
  },
  {
   "cell_type": "code",
   "execution_count": 13,
   "id": "e4bf8047",
   "metadata": {
    "execution": {
     "iopub.execute_input": "2024-12-02T18:42:55.542210Z",
     "iopub.status.busy": "2024-12-02T18:42:55.541771Z",
     "iopub.status.idle": "2024-12-02T18:42:55.668160Z",
     "shell.execute_reply": "2024-12-02T18:42:55.666778Z"
    },
    "papermill": {
     "duration": 0.139968,
     "end_time": "2024-12-02T18:42:55.670641",
     "exception": false,
     "start_time": "2024-12-02T18:42:55.530673",
     "status": "completed"
    },
    "tags": []
   },
   "outputs": [
    {
     "name": "stdout",
     "output_type": "stream",
     "text": [
      "Training set size: (1168, 289)\n",
      "Testing set size: (292, 289)\n"
     ]
    }
   ],
   "source": [
    "##Split Data\n",
    "\n",
    "from sklearn.model_selection import train_test_split\n",
    "\n",
    "# Define the feature set (X) and the target variable (y)\n",
    "X = dataset_df.drop(columns='SalePrice')\n",
    "y = dataset_df['SalePrice']\n",
    "\n",
    "# Split the dataset into training and testing sets\n",
    "X_train, X_test, y_train, y_test = train_test_split(X, y, test_size=0.2, random_state=42)\n",
    "\n",
    "print(\"Training set size:\", X_train.shape)\n",
    "print(\"Testing set size:\", X_test.shape)\n"
   ]
  },
  {
   "cell_type": "code",
   "execution_count": 14,
   "id": "09b10deb",
   "metadata": {
    "execution": {
     "iopub.execute_input": "2024-12-02T18:42:55.691861Z",
     "iopub.status.busy": "2024-12-02T18:42:55.691420Z",
     "iopub.status.idle": "2024-12-02T18:42:55.913314Z",
     "shell.execute_reply": "2024-12-02T18:42:55.910615Z"
    },
    "papermill": {
     "duration": 0.236786,
     "end_time": "2024-12-02T18:42:55.917102",
     "exception": false,
     "start_time": "2024-12-02T18:42:55.680316",
     "status": "completed"
    },
    "tags": []
   },
   "outputs": [
    {
     "name": "stdout",
     "output_type": "stream",
     "text": [
      "Linear Regression Training RMSE: 19552.818725745452\n",
      "Linear Regression Testing RMSE: 29575.592680899303\n"
     ]
    }
   ],
   "source": [
    "##Baseline Model\n",
    "\n",
    "from sklearn.linear_model import LinearRegression\n",
    "from sklearn.metrics import mean_squared_error\n",
    "import numpy as np\n",
    "\n",
    "# Create and train the Linear Regression model\n",
    "linear_model = LinearRegression()\n",
    "linear_model.fit(X_train, y_train)\n",
    "\n",
    "# Make predictions\n",
    "y_train_pred = linear_model.predict(X_train)\n",
    "y_test_pred = linear_model.predict(X_test)\n",
    "\n",
    "# Calculate RMSE for training and testing sets\n",
    "train_rmse = np.sqrt(mean_squared_error(y_train_pred, y_train))\n",
    "test_rmse = np.sqrt(mean_squared_error(y_test_pred, y_test))\n",
    "\n",
    "print(f\"Linear Regression Training RMSE: {train_rmse}\")\n",
    "print(f\"Linear Regression Testing RMSE: {test_rmse}\")\n"
   ]
  },
  {
   "cell_type": "code",
   "execution_count": 15,
   "id": "6cb8b49e",
   "metadata": {
    "execution": {
     "iopub.execute_input": "2024-12-02T18:42:56.004619Z",
     "iopub.status.busy": "2024-12-02T18:42:56.003400Z",
     "iopub.status.idle": "2024-12-02T18:42:59.183166Z",
     "shell.execute_reply": "2024-12-02T18:42:59.181739Z"
    },
    "papermill": {
     "duration": 3.223208,
     "end_time": "2024-12-02T18:42:59.186182",
     "exception": false,
     "start_time": "2024-12-02T18:42:55.962974",
     "status": "completed"
    },
    "tags": []
   },
   "outputs": [
    {
     "name": "stdout",
     "output_type": "stream",
     "text": [
      "Random Forest Training RMSE: 10752.416145757168\n",
      "Random Forest Testing RMSE: 29772.687248208895\n"
     ]
    }
   ],
   "source": [
    "##Random Forest\n",
    "\n",
    "from sklearn.ensemble import RandomForestRegressor\n",
    "\n",
    "# Create and train the Random Forest model\n",
    "rf_model = RandomForestRegressor(n_estimators=100, random_state=42)\n",
    "rf_model.fit(X_train, y_train)\n",
    "\n",
    "# Make predictions\n",
    "y_train_pred_rf = rf_model.predict(X_train)\n",
    "y_test_pred_rf = rf_model.predict(X_test)\n",
    "\n",
    "# Calculate RMSE for training and testing sets\n",
    "train_rmse_rf = np.sqrt(mean_squared_error(y_train_pred_rf, y_train))\n",
    "test_rmse_rf = np.sqrt(mean_squared_error(y_test_pred_rf, y_test))\n",
    "\n",
    "print(f\"Random Forest Training RMSE: {train_rmse_rf}\")\n",
    "print(f\"Random Forest Testing RMSE: {test_rmse_rf}\")\n"
   ]
  },
  {
   "cell_type": "code",
   "execution_count": 16,
   "id": "e6fe61b4",
   "metadata": {
    "execution": {
     "iopub.execute_input": "2024-12-02T18:42:59.209607Z",
     "iopub.status.busy": "2024-12-02T18:42:59.209167Z",
     "iopub.status.idle": "2024-12-02T18:43:00.036445Z",
     "shell.execute_reply": "2024-12-02T18:43:00.033983Z"
    },
    "papermill": {
     "duration": 0.841308,
     "end_time": "2024-12-02T18:43:00.039027",
     "exception": false,
     "start_time": "2024-12-02T18:42:59.197719",
     "status": "completed"
    },
    "tags": []
   },
   "outputs": [
    {
     "name": "stdout",
     "output_type": "stream",
     "text": [
      "Gradient Boosting Training RMSE: 5051.851740294405\n",
      "Gradient Boosting Testing RMSE: 26360.155477393713\n"
     ]
    }
   ],
   "source": [
    "##Gradient Boosting\n",
    "\n",
    "from xgboost import XGBRegressor\n",
    "\n",
    "# Create and train the Gradient Boosting model\n",
    "gb_model = XGBRegressor(n_estimators=100, learning_rate=0.1, random_state=42)\n",
    "gb_model.fit(X_train, y_train)\n",
    "\n",
    "# Make predictions\n",
    "y_train_pred_gb = gb_model.predict(X_train)\n",
    "y_test_pred_gb = gb_model.predict(X_test)\n",
    "\n",
    "# Calculate RMSE for training and testing sets\n",
    "train_rmse_gb = np.sqrt(mean_squared_error(y_train_pred_gb, y_train))\n",
    "test_rmse_gb = np.sqrt(mean_squared_error(y_test_pred_gb, y_test))\n",
    "\n",
    "print(f\"Gradient Boosting Training RMSE: {train_rmse_gb}\")\n",
    "print(f\"Gradient Boosting Testing RMSE: {test_rmse_gb}\")"
   ]
  },
  {
   "cell_type": "code",
   "execution_count": 17,
   "id": "a4736b71",
   "metadata": {
    "execution": {
     "iopub.execute_input": "2024-12-02T18:43:00.062694Z",
     "iopub.status.busy": "2024-12-02T18:43:00.062280Z",
     "iopub.status.idle": "2024-12-02T18:43:00.094840Z",
     "shell.execute_reply": "2024-12-02T18:43:00.091803Z"
    },
    "papermill": {
     "duration": 0.048503,
     "end_time": "2024-12-02T18:43:00.099511",
     "exception": false,
     "start_time": "2024-12-02T18:43:00.051008",
     "status": "completed"
    },
    "tags": []
   },
   "outputs": [
    {
     "name": "stdout",
     "output_type": "stream",
     "text": [
      "Linear Regression Training RMSE (Log-transformed): 0.10540109329259868\n",
      "Linear Regression Testing RMSE (Log-transformed): 0.18864971595963703\n"
     ]
    }
   ],
   "source": [
    "##Metric Calculation\n",
    "\n",
    "from sklearn.metrics import mean_squared_error\n",
    "import numpy as np\n",
    "\n",
    "# Log-transform the target variable\n",
    "y_train_log = np.log1p(y_train)\n",
    "y_test_log = np.log1p(y_test)\n",
    "\n",
    "# Predict and log-transform the predictions\n",
    "y_train_pred_log = np.log1p(linear_model.predict(X_train))\n",
    "y_test_pred_log = np.log1p(linear_model.predict(X_test))\n",
    "\n",
    "# Calculate RMSE for log-transformed predictions\n",
    "train_rmse_log = np.sqrt(mean_squared_error(y_train_log, y_train_pred_log))\n",
    "test_rmse_log = np.sqrt(mean_squared_error(y_test_log, y_test_pred_log))\n",
    "\n",
    "print(f\"Linear Regression Training RMSE (Log-transformed): {train_rmse_log}\")\n",
    "print(f\"Linear Regression Testing RMSE (Log-transformed): {test_rmse_log}\")\n"
   ]
  },
  {
   "cell_type": "code",
   "execution_count": 18,
   "id": "d856d908",
   "metadata": {
    "execution": {
     "iopub.execute_input": "2024-12-02T18:43:00.155423Z",
     "iopub.status.busy": "2024-12-02T18:43:00.153941Z",
     "iopub.status.idle": "2024-12-02T18:43:00.859290Z",
     "shell.execute_reply": "2024-12-02T18:43:00.857492Z"
    },
    "papermill": {
     "duration": 0.739035,
     "end_time": "2024-12-02T18:43:00.863896",
     "exception": false,
     "start_time": "2024-12-02T18:43:00.124861",
     "status": "completed"
    },
    "tags": []
   },
   "outputs": [
    {
     "name": "stdout",
     "output_type": "stream",
     "text": [
      "Cross-Validation RMSE (Log-transformed): [1.37498406e-01 1.91022630e+04 1.68430264e-01 3.42100409e+03\n",
      " 1.99102806e-01]\n",
      "Mean Cross-Validation RMSE (Log-transformed): 4504.75443499092\n"
     ]
    }
   ],
   "source": [
    "##Cross-Validation\n",
    "\n",
    "from sklearn.model_selection import cross_val_score\n",
    "\n",
    "# Perform 5-fold cross-validation on the log-transformed target variable\n",
    "cv_scores = cross_val_score(linear_model, X, np.log1p(y), cv=5, scoring='neg_mean_squared_error')\n",
    "cv_rmse = np.sqrt(-cv_scores)\n",
    "\n",
    "print(f\"Cross-Validation RMSE (Log-transformed): {cv_rmse}\")\n",
    "print(f\"Mean Cross-Validation RMSE (Log-transformed): {cv_rmse.mean()}\")\n"
   ]
  },
  {
   "cell_type": "code",
   "execution_count": 19,
   "id": "7d98ec09",
   "metadata": {
    "execution": {
     "iopub.execute_input": "2024-12-02T18:43:00.951133Z",
     "iopub.status.busy": "2024-12-02T18:43:00.946324Z",
     "iopub.status.idle": "2024-12-02T18:43:00.977542Z",
     "shell.execute_reply": "2024-12-02T18:43:00.976008Z"
    },
    "papermill": {
     "duration": 0.077698,
     "end_time": "2024-12-02T18:43:00.981491",
     "exception": false,
     "start_time": "2024-12-02T18:43:00.903793",
     "status": "completed"
    },
    "tags": []
   },
   "outputs": [
    {
     "name": "stdout",
     "output_type": "stream",
     "text": [
      "Log Predictions: [157901.19536072 349380.04919395  86560.51931448 174400.42520251\n",
      " 317159.17069049  66744.05990606 235901.13991814 146281.42521377\n",
      "  57630.04995032 153867.07366614]\n",
      "Clipped Log Predictions: [20. 20. 20. 20. 20. 20. 20. 20. 20. 20.]\n",
      "Transformed Predictions: [4.85165194e+08 4.85165194e+08 4.85165194e+08 4.85165194e+08\n",
      " 4.85165194e+08 4.85165194e+08 4.85165194e+08 4.85165194e+08\n",
      " 4.85165194e+08 4.85165194e+08]\n"
     ]
    }
   ],
   "source": [
    "##Generate Predictions\n",
    "\n",
    "# Predict the SalePrice for the test set\n",
    "test_predictions_log = linear_model.predict(X_test)\n",
    "print(\"Log Predictions:\", test_predictions_log[:10])\n",
    "\n",
    "# Clip predictions to a reasonable range before applying the exponential transformation\n",
    "test_predictions_log = np.clip(test_predictions_log, a_min=None, a_max=20)\n",
    "print(\"Clipped Log Predictions:\", test_predictions_log[:10])\n",
    "\n",
    "# Transform predictions back to the original scale\n",
    "test_predictions = np.expm1(test_predictions_log)\n",
    "print(\"Transformed Predictions:\", test_predictions[:10])\n"
   ]
  },
  {
   "cell_type": "code",
   "execution_count": 20,
   "id": "227e6f8b",
   "metadata": {
    "execution": {
     "iopub.execute_input": "2024-12-02T18:43:01.037639Z",
     "iopub.status.busy": "2024-12-02T18:43:01.035520Z",
     "iopub.status.idle": "2024-12-02T18:43:01.066476Z",
     "shell.execute_reply": "2024-12-02T18:43:01.065138Z"
    },
    "papermill": {
     "duration": 0.062949,
     "end_time": "2024-12-02T18:43:01.071019",
     "exception": false,
     "start_time": "2024-12-02T18:43:01.008070",
     "status": "completed"
    },
    "tags": []
   },
   "outputs": [
    {
     "name": "stdout",
     "output_type": "stream",
     "text": [
      "     Id     SalePrice\n",
      "0   892  4.851652e+08\n",
      "1  1105  4.851652e+08\n",
      "2   413  4.851652e+08\n",
      "3   522  4.851652e+08\n",
      "4  1036  4.851652e+08\n"
     ]
    }
   ],
   "source": [
    "##Create Submission File\n",
    "\n",
    "# Create a DataFrame with the test set IDs and the predicted SalePrice\n",
    "submission = pd.DataFrame({\n",
    "    'Id': X_test.index,   \n",
    "    'SalePrice': test_predictions\n",
    "})\n",
    "\n",
    "# Save the submission DataFrame to a CSV file\n",
    "submission.to_csv('submission.csv', index=False)\n",
    "\n",
    "# Verify the contents of the submission file\n",
    "print(submission.head())\n"
   ]
  }
 ],
 "metadata": {
  "kaggle": {
   "accelerator": "none",
   "dataSources": [
    {
     "databundleVersionId": 868283,
     "sourceId": 5407,
     "sourceType": "competition"
    }
   ],
   "dockerImageVersionId": 30786,
   "isGpuEnabled": false,
   "isInternetEnabled": true,
   "language": "python",
   "sourceType": "notebook"
  },
  "kernelspec": {
   "display_name": "Python 3",
   "language": "python",
   "name": "python3"
  },
  "language_info": {
   "codemirror_mode": {
    "name": "ipython",
    "version": 3
   },
   "file_extension": ".py",
   "mimetype": "text/x-python",
   "name": "python",
   "nbconvert_exporter": "python",
   "pygments_lexer": "ipython3",
   "version": "3.10.14"
  },
  "papermill": {
   "default_parameters": {},
   "duration": 31.900678,
   "end_time": "2024-12-02T18:43:03.457909",
   "environment_variables": {},
   "exception": null,
   "input_path": "__notebook__.ipynb",
   "output_path": "__notebook__.ipynb",
   "parameters": {},
   "start_time": "2024-12-02T18:42:31.557231",
   "version": "2.6.0"
  }
 },
 "nbformat": 4,
 "nbformat_minor": 5
}
